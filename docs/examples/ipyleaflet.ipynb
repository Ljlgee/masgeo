{
 "cells": [
  {
   "cell_type": "code",
   "execution_count": 7,
   "metadata": {},
   "outputs": [
    {
     "data": {
      "application/vnd.jupyter.widget-view+json": {
       "model_id": "905097a634254534b4a188b75667070d",
       "version_major": 2,
       "version_minor": 0
      },
      "text/plain": [
       "Map(center=[34.540833, 108.923611], controls=(ZoomControl(options=['position', 'zoom_in_text', 'zoom_in_title'…"
      ]
     },
     "metadata": {},
     "output_type": "display_data"
    }
   ],
   "source": [
    "from ipyleaflet import Map, Marker\n",
    "\n",
    "center = (34.540833, 108.923611)\n",
    "\n",
    "m = Map(center=center, zoom=15)\n",
    "\n",
    "marker = Marker(location=center, draggable=True)\n",
    "m.add(marker)\n",
    "m.scroll_wheel_zoom = True#滚轮缩放\n",
    "display(m)\n",
    "#display是ipython的一个函数，用于显示图像，声音，动画等等。\n",
    "\n",
    "# Now that the marker is on the Map, you can drag it with your mouse,\n",
    "# it will automatically update the `marker.location` attribute in Python\n",
    "\n",
    "# You can also update the marker location from Python, that will update the\n",
    "# marker location on the Map:\n",
    "marker.location = (34.540833, 108.923611)"
   ]
  },
  {
   "cell_type": "code",
   "execution_count": 12,
   "metadata": {},
   "outputs": [
    {
     "data": {
      "application/vnd.jupyter.widget-view+json": {
       "model_id": "bc24f9b9606f4dfd8f4b9c2d1c330cf4",
       "version_major": 2,
       "version_minor": 0
      },
      "text/plain": [
       "Map(center=[34.540833, 108.923611], controls=(ZoomControl(options=['position', 'zoom_in_text', 'zoom_in_title'…"
      ]
     },
     "execution_count": 12,
     "metadata": {},
     "output_type": "execute_result"
    }
   ],
   "source": [
    "import ipyleaflet as ipyl\n",
    "m = ipyl.Map(center=(34.540833, 108.923611), zoom=5)\n",
    "m.scroll_wheel_zoom = True\n",
    "m.add_control(ipyl.LayersControl())\n",
    "m"
   ]
  },
  {
   "cell_type": "code",
   "execution_count": 1,
   "metadata": {},
   "outputs": [],
   "source": [
    "import masgeo\n",
    "#from masgeo.masgeo import Map\n",
    "#是因为masgeo文件夹下的__init__.py文件中没有导入Map类，所以无法直接调用Map类\n",
    "#为什么一定要是__init__.py文件呢？因为python会自动导入__init__.py文件，所以在__init__.py文件中导入了Map类，就可以直接调用Map类了"
   ]
  },
  {
   "cell_type": "code",
   "execution_count": 2,
   "metadata": {},
   "outputs": [
    {
     "data": {
      "application/vnd.jupyter.widget-view+json": {
       "model_id": "3e4bdd426cee40b090c6ceb83c5c68dd",
       "version_major": 2,
       "version_minor": 0
      },
      "text/plain": [
       "Map(center=[34.540833, 108.923611], controls=(ZoomControl(options=['position', 'zoom_in_text', 'zoom_in_title'…"
      ]
     },
     "execution_count": 2,
     "metadata": {},
     "output_type": "execute_result"
    }
   ],
   "source": [
    "m=masgeo.Map()\n",
    "m"
   ]
  }
 ],
 "metadata": {
  "kernelspec": {
   "display_name": "geoo",
   "language": "python",
   "name": "python3"
  },
  "language_info": {
   "codemirror_mode": {
    "name": "ipython",
    "version": 3
   },
   "file_extension": ".py",
   "mimetype": "text/x-python",
   "name": "python",
   "nbconvert_exporter": "python",
   "pygments_lexer": "ipython3",
   "version": "3.11.9"
  }
 },
 "nbformat": 4,
 "nbformat_minor": 2
}
