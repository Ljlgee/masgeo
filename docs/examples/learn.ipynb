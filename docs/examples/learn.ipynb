{
 "cells": [
  {
   "cell_type": "markdown",
   "metadata": {},
   "source": [
    "[![image](https://colab.research.google.com/assets/colab-badge.svg)](https://githubtocolab.com/Ljlgee/masgeo/blob/main/docs/examples/learn.ipynb)"
   ]
  },
  {
   "cell_type": "code",
   "execution_count": 2,
   "metadata": {},
   "outputs": [
    {
     "name": "stdout",
     "output_type": "stream",
     "text": [
      "AUDI\n",
      "Bmw\n",
      "SUBARU\n",
      "TOYOTA\n",
      "done\n"
     ]
    }
   ],
   "source": [
    "cars=[\"audi\", \"bmw\", \"subaru\", \"toyota\"]\n",
    "for car in cars:\n",
    "    if car != \"bmw\":\n",
    "        print(car.upper())\n",
    "    else:\n",
    "        print(car.title())\n",
    "print(\"done\")\n"
   ]
  },
  {
   "cell_type": "code",
   "execution_count": 12,
   "metadata": {},
   "outputs": [
    {
     "name": "stdout",
     "output_type": "stream",
     "text": [
      "1\n",
      "3\n",
      "5\n",
      "7\n",
      "9\n"
     ]
    }
   ],
   "source": [
    "\n",
    "counter = 0\n",
    "while counter < 10:\n",
    "    counter += 1\n",
    "    if counter % 2 == 0:\n",
    "        continue\n",
    "    print(counter)"
   ]
  },
  {
   "cell_type": "code",
   "execution_count": 15,
   "metadata": {},
   "outputs": [
    {
     "name": "stdout",
     "output_type": "stream",
     "text": [
      "I have a dog\n",
      "My dog's name is willie\n"
     ]
    }
   ],
   "source": [
    "def describe_pet(animal_type, pet_name):\n",
    "    print(f\"I have a {animal_type}\")\n",
    "    print(f\"My {animal_type}'s name is {pet_name}\")\n",
    "\n",
    "describe_pet(\"dog\", pet_name=\"willie\")\n",
    "#位置参数必须在关键字参数之前"
   ]
  },
  {
   "cell_type": "code",
   "execution_count": null,
   "metadata": {},
   "outputs": [],
   "source": [
    "# 打印ASCII码前60个字符及其序号\n",
    "for i in range(60):\n",
    "    print(f\"{i}: {chr(i)}\")"
   ]
  },
  {
   "cell_type": "code",
   "execution_count": 19,
   "metadata": {},
   "outputs": [
    {
     "name": "stdout",
     "output_type": "stream",
     "text": [
      "Tom is major in Math\n",
      "Tom is major in Gis\n",
      "Tom is major in English\n"
     ]
    }
   ],
   "source": [
    "def describe_student(name,major='Gis'):\n",
    "    print(f\"{name} is major in {major}\")\n",
    "describe_student('Tom',major='Math')\n",
    "describe_student('Tom')\n",
    "describe_student('Tom','English')\n",
    "#为什么要使用默认值？因为这样可以简化函数调用，同时也可以让函数更具有通用性，还能换用不同的默认值"
   ]
  },
  {
   "cell_type": "code",
   "execution_count": 31,
   "metadata": {},
   "outputs": [
    {
     "data": {
      "text/plain": [
       "15.0"
      ]
     },
     "execution_count": 31,
     "metadata": {},
     "output_type": "execute_result"
    }
   ],
   "source": [
    "\n",
    "def sum_values(values):\n",
    "\n",
    "    final= []\n",
    "    for value in values:\n",
    "        try:\n",
    "            final.append(float(value))\n",
    "        except:\n",
    "            pass\n",
    "    total = sum(final)\n",
    "    return total\n",
    "\n",
    "sum_values([1,2,3,4,5,'fd'])\n"
   ]
  },
  {
   "cell_type": "code",
   "execution_count": 49,
   "metadata": {},
   "outputs": [
    {
     "data": {
      "text/plain": [
       "15.0"
      ]
     },
     "execution_count": 49,
     "metadata": {},
     "output_type": "execute_result"
    }
   ],
   "source": [
    "\n",
    "def sum_values(values):\n",
    "\n",
    "    final= []\n",
    "    if not isinstance(values, list):\n",
    "        print(\"The input is not a list\")\n",
    "        return None\n",
    "    if isinstance(values, (int, float)):\n",
    "        values = [values]\n",
    "\n",
    "    \n",
    "    for value in values:\n",
    "        try:\n",
    "            final.append(float(value))\n",
    "        except:\n",
    "            pass\n",
    "    total = sum(final)\n",
    "    return total\n",
    "\n",
    "sum_values([1,2,3,4,5,'fd'])\n",
    "#sum_values(hasattr)\n"
   ]
  },
  {
   "cell_type": "code",
   "execution_count": 54,
   "metadata": {},
   "outputs": [
    {
     "name": "stdout",
     "output_type": "stream",
     "text": [
      "2019 Audi A4\n",
      "This car has 0 miles on it.\n"
     ]
    }
   ],
   "source": [
    "class Car:\n",
    "    \"\"\"A simple attempt to represent a car.\"\"\"\n",
    "    def __init__(self, make, model, year):\n",
    "        \"\"\"Initialize attributes to describe a car.\"\"\"\n",
    "        self.make = make\n",
    "        self.model = model\n",
    "        self.year = year\n",
    "        self.odometer_reading = 0  #设置默认值\n",
    "    def get_descriptive_name(self):\n",
    "        \"\"\"Return a neatly formatted descriptive name.\"\"\"\n",
    "        # long_name = f\"{self.year} {self.make} {self.model}\"\n",
    "        # return long_name.title()   #这里return 后面就用print打印\n",
    "        print(f\"{self.year} {self.make} {self.model}\".title()) \n",
    "                   #这里print了，后面就直接调用函数就行\n",
    "        \n",
    "    def read_odometer(self):\n",
    "        \"\"\"Print a statement showing the car's mileage.\"\"\"\n",
    "        print(f\"This car has {self.odometer_reading} miles on it.\")\n",
    "\n",
    "my_new_car = Car(\"audi\", \"a4\", 2019)\n",
    "# print(my_new_car.get_descriptive_name())\n",
    "my_new_car.get_descriptive_name()\n",
    "my_new_car.read_odometer()"
   ]
  },
  {
   "cell_type": "code",
   "execution_count": 60,
   "metadata": {},
   "outputs": [
    {
     "name": "stdout",
     "output_type": "stream",
     "text": [
      "2020 Telsa Model S\n",
      "This car has a 75-kWh battery.\n",
      "This car has 23 miles on it.\n"
     ]
    }
   ],
   "source": [
    "class telsa(Car):\n",
    "    def __init__(self, make, model, year):\n",
    "        super().__init__(make, model, year)\n",
    "        #super()是一个特殊函数，帮助Python将父类和子类关联起来\n",
    "        self.battery_size = 75\n",
    "    def describe_battery(self):\n",
    "        print(f\"This car has a {self.battery_size}-kWh battery.\")\n",
    "my_telsa = telsa('telsa','model s',2020)\n",
    "my_telsa.get_descriptive_name()\n",
    "my_telsa.describe_battery()\n",
    "my_telsa.odometer_reading = 23\n",
    "my_telsa.read_odometer()\n"
   ]
  },
  {
   "cell_type": "code",
   "execution_count": null,
   "metadata": {},
   "outputs": [],
   "source": [
    "import leafmap\n",
    "m = leafmap.Map()\n",
    "#m.add_basemap(\"HYBRID\")\n",
    "\n",
    "class MAP(leafmap.Map):\n",
    "    def __init__(self):\n",
    "        super().__init__()\n",
    "        self.add_basemap(\"HYBRID\")\n",
    "        self.clear_controls()\n",
    "        #clear_controls()是一个方法，用于清除地图上的所有控件\n",
    "m1 = MAP()\n",
    "m1"
   ]
  },
  {
   "cell_type": "code",
   "execution_count": 9,
   "metadata": {},
   "outputs": [
    {
     "ename": "ValueError",
     "evalue": "cannot insert 体重, already exists",
     "output_type": "error",
     "traceback": [
      "\u001b[1;31m---------------------------------------------------------------------------\u001b[0m",
      "\u001b[1;31mValueError\u001b[0m                                Traceback (most recent call last)",
      "\u001b[1;32m~\\AppData\\Local\\Temp\\ipykernel_19344\\630897963.py\u001b[0m in \u001b[0;36m?\u001b[1;34m()\u001b[0m\n\u001b[0;32m      5\u001b[0m \u001b[1;31m#df.rename(columns={'年龄':'岁数'},inplace=True)\u001b[0m\u001b[1;33m\u001b[0m\u001b[1;33m\u001b[0m\u001b[0m\n\u001b[0;32m      6\u001b[0m \u001b[1;31m#加一列学习的科目\u001b[0m\u001b[1;33m\u001b[0m\u001b[1;33m\u001b[0m\u001b[0m\n\u001b[0;32m      7\u001b[0m \u001b[1;31m#df['科目'] = ['Math','English','Chinese']\u001b[0m\u001b[1;33m\u001b[0m\u001b[1;33m\u001b[0m\u001b[0m\n\u001b[0;32m      8\u001b[0m \u001b[1;31m#将新列插入到指定位置\u001b[0m\u001b[1;33m\u001b[0m\u001b[1;33m\u001b[0m\u001b[0m\n\u001b[1;32m----> 9\u001b[1;33m \u001b[0mdf\u001b[0m\u001b[1;33m.\u001b[0m\u001b[0minsert\u001b[0m\u001b[1;33m(\u001b[0m\u001b[1;36m0\u001b[0m\u001b[1;33m,\u001b[0m\u001b[1;34m'体重'\u001b[0m\u001b[1;33m,\u001b[0m\u001b[1;33m[\u001b[0m\u001b[1;34m'60'\u001b[0m\u001b[1;33m,\u001b[0m\u001b[1;34m'40'\u001b[0m\u001b[1;33m,\u001b[0m\u001b[1;34m'59'\u001b[0m\u001b[1;33m]\u001b[0m\u001b[1;33m)\u001b[0m\u001b[1;33m\u001b[0m\u001b[1;33m\u001b[0m\u001b[0m\n\u001b[0m\u001b[0;32m     10\u001b[0m \u001b[1;31m#重写一列\u001b[0m\u001b[1;33m\u001b[0m\u001b[1;33m\u001b[0m\u001b[0m\n\u001b[0;32m     11\u001b[0m \u001b[1;31m#df['姓名'] = ['Tom','Jerry','Lily']\u001b[0m\u001b[1;33m\u001b[0m\u001b[1;33m\u001b[0m\u001b[0m\n\u001b[0;32m     12\u001b[0m \u001b[0mdf\u001b[0m\u001b[1;33m.\u001b[0m\u001b[0mto_excel\u001b[0m\u001b[1;33m(\u001b[0m\u001b[1;34mr\"C:\\Users\\16585\\OneDrive\\Desktop\\LJL\\pytest.xlsx\"\u001b[0m\u001b[1;33m,\u001b[0m\u001b[0mindex\u001b[0m\u001b[1;33m=\u001b[0m\u001b[1;32mFalse\u001b[0m\u001b[1;33m)\u001b[0m\u001b[1;33m\u001b[0m\u001b[1;33m\u001b[0m\u001b[0m\n",
      "\u001b[1;32mc:\\Users\\16585\\miniconda3\\envs\\geoo\\Lib\\site-packages\\pandas\\core\\frame.py\u001b[0m in \u001b[0;36m?\u001b[1;34m(self, loc, column, value, allow_duplicates)\u001b[0m\n\u001b[0;32m   5154\u001b[0m                 \u001b[1;34m\"'self.flags.allows_duplicate_labels' is False.\"\u001b[0m\u001b[1;33m\u001b[0m\u001b[1;33m\u001b[0m\u001b[0m\n\u001b[0;32m   5155\u001b[0m             )\n\u001b[0;32m   5156\u001b[0m         \u001b[1;32mif\u001b[0m \u001b[1;32mnot\u001b[0m \u001b[0mallow_duplicates\u001b[0m \u001b[1;32mand\u001b[0m \u001b[0mcolumn\u001b[0m \u001b[1;32min\u001b[0m \u001b[0mself\u001b[0m\u001b[1;33m.\u001b[0m\u001b[0mcolumns\u001b[0m\u001b[1;33m:\u001b[0m\u001b[1;33m\u001b[0m\u001b[1;33m\u001b[0m\u001b[0m\n\u001b[0;32m   5157\u001b[0m             \u001b[1;31m# Should this be a different kind of error??\u001b[0m\u001b[1;33m\u001b[0m\u001b[1;33m\u001b[0m\u001b[0m\n\u001b[1;32m-> 5158\u001b[1;33m             \u001b[1;32mraise\u001b[0m \u001b[0mValueError\u001b[0m\u001b[1;33m(\u001b[0m\u001b[1;34mf\"cannot insert {column}, already exists\"\u001b[0m\u001b[1;33m)\u001b[0m\u001b[1;33m\u001b[0m\u001b[1;33m\u001b[0m\u001b[0m\n\u001b[0m\u001b[0;32m   5159\u001b[0m         \u001b[1;32mif\u001b[0m \u001b[1;32mnot\u001b[0m \u001b[0mis_integer\u001b[0m\u001b[1;33m(\u001b[0m\u001b[0mloc\u001b[0m\u001b[1;33m)\u001b[0m\u001b[1;33m:\u001b[0m\u001b[1;33m\u001b[0m\u001b[1;33m\u001b[0m\u001b[0m\n\u001b[0;32m   5160\u001b[0m             \u001b[1;32mraise\u001b[0m \u001b[0mTypeError\u001b[0m\u001b[1;33m(\u001b[0m\u001b[1;34m\"loc must be int\"\u001b[0m\u001b[1;33m)\u001b[0m\u001b[1;33m\u001b[0m\u001b[1;33m\u001b[0m\u001b[0m\n\u001b[0;32m   5161\u001b[0m         \u001b[1;31m# convert non stdlib ints to satisfy typing checks\u001b[0m\u001b[1;33m\u001b[0m\u001b[1;33m\u001b[0m\u001b[0m\n",
      "\u001b[1;31mValueError\u001b[0m: cannot insert 体重, already exists"
     ]
    }
   ],
   "source": [
    "\n",
    "\n",
    "import pandas as pd\n",
    "df =pd.read_excel(r\"C:\\Users\\16585\\OneDrive\\Desktop\\LJL\\pytest.xlsx\")\n",
    "df['年龄']=df['年龄'].apply(lambda x: x-2)\n",
    "##apply用于对数据进行批量处理，lambda x: x-2表示对每个数据减2\n",
    "df.drop('年龄',axis=1,inplace=True)\n",
    "##drop()方法用于删除行或列，axis=1表示删除列，axis=0表示删除行\n",
    "##把列名年龄改成岁数\n",
    "df.rename(columns={'年龄':'岁数'},inplace=True)\n",
    "##加一列学习的科目\n",
    "df['科目'] = ['Math','English','Chinese']\n",
    "##将新列插入到指定位置\n",
    "df.insert(0,'体重',['60','40','59'])\n",
    "##重写一列\n",
    "df['姓名'] = ['Tom','Jerry','Lily']\n",
    "df.to_excel(r\"C:\\Users\\16585\\OneDrive\\Desktop\\LJL\\pytest.xlsx\",index=False)\n",
    "\n",
    "\n"
   ]
  }
 ],
 "metadata": {
  "kernelspec": {
   "display_name": "geoo",
   "language": "python",
   "name": "python3"
  },
  "language_info": {
   "codemirror_mode": {
    "name": "ipython",
    "version": 3
   },
   "file_extension": ".py",
   "mimetype": "text/x-python",
   "name": "python",
   "nbconvert_exporter": "python",
   "pygments_lexer": "ipython3",
   "version": "3.11.9"
  }
 },
 "nbformat": 4,
 "nbformat_minor": 2
}
