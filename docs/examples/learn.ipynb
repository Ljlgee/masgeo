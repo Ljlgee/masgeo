{
 "cells": [
  {
   "cell_type": "code",
   "execution_count": 1,
   "metadata": {},
   "outputs": [
    {
     "name": "stdout",
     "output_type": "stream",
     "text": [
      "\n",
      "The number 1 is odd.\n"
     ]
    }
   ],
   "source": [
    "def odd_even_number():\n",
    "    number = input(\"Enter a number, and I'll tell you if it's even or odd: \")\n",
    "    number = int(number)\n",
    "\n",
    "    if number % 2 == 0:\n",
    "        print(f\"\\nThe number {number} is even.\")\n",
    "    else:\n",
    "        print(f\"\\nThe number {number} is odd.\")\n",
    "odd_even_number()\n"
   ]
  }
 ],
 "metadata": {
  "kernelspec": {
   "display_name": "geoo",
   "language": "python",
   "name": "python3"
  },
  "language_info": {
   "codemirror_mode": {
    "name": "ipython",
    "version": 3
   },
   "file_extension": ".py",
   "mimetype": "text/x-python",
   "name": "python",
   "nbconvert_exporter": "python",
   "pygments_lexer": "ipython3",
   "version": "3.11.9"
  }
 },
 "nbformat": 4,
 "nbformat_minor": 2
}
